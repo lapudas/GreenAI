{
 "cells": [
  {
   "cell_type": "code",
   "execution_count": 3,
   "id": "5e9f70cd",
   "metadata": {},
   "outputs": [
    {
     "name": "stderr",
     "output_type": "stream",
     "text": [
      "[codecarbon WARNING @ 21:41:48] Multiple instances of codecarbon are allowed to run at the same time.\n",
      "[codecarbon WARNING @ 21:41:48] Error while trying to count physical CPUs: [Errno 2] No such file or directory: 'lscpu'. Defaulting to 1.\n",
      "[codecarbon INFO @ 21:41:48] [setup] RAM Tracking...\n",
      "[codecarbon INFO @ 21:41:48] [setup] CPU Tracking...\n",
      "[codecarbon WARNING @ 21:41:48] We saw that you have a Apple M2 Max but we don't know it. Please contact us.\n",
      "[codecarbon WARNING @ 21:41:48] No CPU tracking mode found. Falling back on estimation based on TDP for CPU. \n",
      " Mac OS and ARM processor detected: Please enable PowerMetrics sudo to measure CPU\n",
      "\n",
      "[codecarbon INFO @ 21:41:48] CPU Model on constant consumption mode: Apple M2 Max\n",
      "[codecarbon WARNING @ 21:41:48] No CPU tracking mode found. Falling back on CPU constant mode.\n",
      "[codecarbon INFO @ 21:41:48] [setup] GPU Tracking...\n",
      "[codecarbon INFO @ 21:41:48] No GPU found.\n",
      "[codecarbon INFO @ 21:41:48] The below tracking methods have been set up:\n",
      "                RAM Tracking Method: RAM power estimation model\n",
      "                CPU Tracking Method: global constant\n",
      "                GPU Tracking Method: Unspecified\n",
      "            \n",
      "[codecarbon INFO @ 21:41:48] >>> Tracker's metadata:\n",
      "[codecarbon INFO @ 21:41:48]   Platform system: macOS-15.2-arm64-arm-64bit\n",
      "[codecarbon INFO @ 21:41:48]   Python version: 3.12.9\n",
      "[codecarbon INFO @ 21:41:48]   CodeCarbon version: 3.0.2\n",
      "[codecarbon INFO @ 21:41:48]   Available RAM : 64.000 GB\n",
      "[codecarbon INFO @ 21:41:48]   CPU count: 12 thread(s) in 1 physical CPU(s)\n",
      "[codecarbon INFO @ 21:41:48]   CPU model: Apple M2 Max\n",
      "[codecarbon INFO @ 21:41:48]   GPU count: None\n",
      "[codecarbon INFO @ 21:41:48]   GPU model: None\n",
      "[codecarbon INFO @ 21:41:51] Emissions data (if any) will be saved to file /Users/lala/GreenAI/emissions.csv\n",
      "[codecarbon INFO @ 21:41:51] \n",
      "Graceful stopping: collecting and writing information.\n",
      "Please wait a few seconds...\n",
      "[codecarbon INFO @ 21:41:51] Energy consumed for RAM : 0.000000 kWh. RAM Power : 6.0 W\n",
      "[codecarbon INFO @ 21:41:51] Delta energy consumed for CPU with constant : 0.000000 kWh, power : 42.5 W\n",
      "[codecarbon INFO @ 21:41:51] Energy consumed for All CPU : 0.000000 kWh\n",
      "[codecarbon INFO @ 21:41:51] 0.000000 kWh of electricity used since the beginning.\n",
      "[codecarbon INFO @ 21:41:51] Done!\n",
      "\n"
     ]
    },
    {
     "name": "stdout",
     "output_type": "stream",
     "text": [
      "test\n"
     ]
    }
   ],
   "source": [
    "from codecarbon import track_emissions\n",
    "\n",
    "@track_emissions()\n",
    "def your_function_to_track():\n",
    "  print(\"test\")\n",
    "  \n",
    "your_function_to_track()"
   ]
  },
  {
   "cell_type": "code",
   "execution_count": null,
   "id": "238916cc",
   "metadata": {},
   "outputs": [
    {
     "name": "stdout",
     "output_type": "stream",
     "text": [
      "Collecting dash==2.14.2\n",
      "  Downloading dash-2.14.2-py3-none-any.whl.metadata (11 kB)\n",
      "Collecting Flask<3.1,>=1.0.4 (from dash==2.14.2)\n",
      "  Downloading flask-3.0.3-py3-none-any.whl.metadata (3.2 kB)\n",
      "Collecting Werkzeug<3.1 (from dash==2.14.2)\n",
      "  Downloading werkzeug-3.0.6-py3-none-any.whl.metadata (3.7 kB)\n",
      "Requirement already satisfied: plotly>=5.0.0 in /Users/lala/miniconda3/lib/python3.12/site-packages (from dash==2.14.2) (6.2.0)\n",
      "Collecting dash-html-components==2.0.0 (from dash==2.14.2)\n",
      "  Downloading dash_html_components-2.0.0-py3-none-any.whl.metadata (3.8 kB)\n",
      "Collecting dash-core-components==2.0.0 (from dash==2.14.2)\n",
      "  Downloading dash_core_components-2.0.0-py3-none-any.whl.metadata (2.9 kB)\n",
      "Collecting dash-table==5.0.0 (from dash==2.14.2)\n",
      "  Downloading dash_table-5.0.0-py3-none-any.whl.metadata (2.4 kB)\n",
      "Requirement already satisfied: typing-extensions>=4.1.1 in /Users/lala/miniconda3/lib/python3.12/site-packages (from dash==2.14.2) (4.12.2)\n",
      "Requirement already satisfied: requests in /Users/lala/miniconda3/lib/python3.12/site-packages (from dash==2.14.2) (2.32.3)\n",
      "Requirement already satisfied: retrying in /Users/lala/miniconda3/lib/python3.12/site-packages (from dash==2.14.2) (1.4.0)\n",
      "Collecting ansi2html (from dash==2.14.2)\n",
      "  Downloading ansi2html-1.9.2-py3-none-any.whl.metadata (3.7 kB)\n",
      "Requirement already satisfied: nest-asyncio in /Users/lala/miniconda3/lib/python3.12/site-packages (from dash==2.14.2) (1.6.0)\n",
      "Requirement already satisfied: setuptools in /Users/lala/miniconda3/lib/python3.12/site-packages (from dash==2.14.2) (75.8.0)\n",
      "Requirement already satisfied: importlib-metadata in /Users/lala/miniconda3/lib/python3.12/site-packages (from dash==2.14.2) (8.6.1)\n",
      "Requirement already satisfied: Jinja2>=3.1.2 in /Users/lala/miniconda3/lib/python3.12/site-packages (from Flask<3.1,>=1.0.4->dash==2.14.2) (3.1.6)\n",
      "Requirement already satisfied: itsdangerous>=2.1.2 in /Users/lala/miniconda3/lib/python3.12/site-packages (from Flask<3.1,>=1.0.4->dash==2.14.2) (2.2.0)\n",
      "Requirement already satisfied: click>=8.1.3 in /Users/lala/miniconda3/lib/python3.12/site-packages (from Flask<3.1,>=1.0.4->dash==2.14.2) (8.2.1)\n",
      "Requirement already satisfied: blinker>=1.6.2 in /Users/lala/miniconda3/lib/python3.12/site-packages (from Flask<3.1,>=1.0.4->dash==2.14.2) (1.9.0)\n",
      "Requirement already satisfied: narwhals>=1.15.1 in /Users/lala/miniconda3/lib/python3.12/site-packages (from plotly>=5.0.0->dash==2.14.2) (1.46.0)\n",
      "Requirement already satisfied: packaging in /Users/lala/miniconda3/lib/python3.12/site-packages (from plotly>=5.0.0->dash==2.14.2) (24.2)\n",
      "Requirement already satisfied: MarkupSafe>=2.1.1 in /Users/lala/miniconda3/lib/python3.12/site-packages (from Werkzeug<3.1->dash==2.14.2) (3.0.2)\n",
      "Requirement already satisfied: zipp>=3.20 in /Users/lala/miniconda3/lib/python3.12/site-packages (from importlib-metadata->dash==2.14.2) (3.21.0)\n",
      "Requirement already satisfied: charset-normalizer<4,>=2 in /Users/lala/miniconda3/lib/python3.12/site-packages (from requests->dash==2.14.2) (3.3.2)\n",
      "Requirement already satisfied: idna<4,>=2.5 in /Users/lala/miniconda3/lib/python3.12/site-packages (from requests->dash==2.14.2) (3.7)\n",
      "Requirement already satisfied: urllib3<3,>=1.21.1 in /Users/lala/miniconda3/lib/python3.12/site-packages (from requests->dash==2.14.2) (2.3.0)\n",
      "Requirement already satisfied: certifi>=2017.4.17 in /Users/lala/miniconda3/lib/python3.12/site-packages (from requests->dash==2.14.2) (2025.1.31)\n",
      "Downloading dash-2.14.2-py3-none-any.whl (10.2 MB)\n",
      "\u001b[2K   \u001b[90m━━━━━━━━━━━━━━━━━━━━━━━━━━━━━━━━━━━━━━━━\u001b[0m \u001b[32m10.2/10.2 MB\u001b[0m \u001b[31m4.3 MB/s\u001b[0m eta \u001b[36m0:00:00\u001b[0m \u001b[36m0:00:01\u001b[0mm\n",
      "\u001b[?25hDownloading dash_core_components-2.0.0-py3-none-any.whl (3.8 kB)\n",
      "Downloading dash_html_components-2.0.0-py3-none-any.whl (4.1 kB)\n",
      "Downloading dash_table-5.0.0-py3-none-any.whl (3.9 kB)\n",
      "Downloading flask-3.0.3-py3-none-any.whl (101 kB)\n",
      "Downloading werkzeug-3.0.6-py3-none-any.whl (227 kB)\n",
      "Downloading ansi2html-1.9.2-py3-none-any.whl (17 kB)\n",
      "Installing collected packages: dash-table, dash-html-components, dash-core-components, Werkzeug, ansi2html, Flask, dash\n",
      "  Attempting uninstall: Werkzeug\n",
      "    Found existing installation: Werkzeug 3.1.3\n",
      "    Uninstalling Werkzeug-3.1.3:\n",
      "      Successfully uninstalled Werkzeug-3.1.3\n",
      "  Attempting uninstall: Flask\n",
      "    Found existing installation: Flask 3.1.1\n",
      "    Uninstalling Flask-3.1.1:\n",
      "      Successfully uninstalled Flask-3.1.1\n",
      "\u001b[31mERROR: pip's dependency resolver does not currently take into account all the packages that are installed. This behaviour is the source of the following dependency conflicts.\n",
      "dash-bootstrap-components 2.0.3 requires dash>=3.0.4, but you have dash 2.14.2 which is incompatible.\u001b[0m\u001b[31m\n",
      "\u001b[0mSuccessfully installed Flask-3.0.3 Werkzeug-3.0.6 ansi2html-1.9.2 dash-2.14.2 dash-core-components-2.0.0 dash-html-components-2.0.0 dash-table-5.0.0\n"
     ]
    }
   ],
   "source": [
    "# 碳足跡圖像結果生成(Terminal)\n",
    "carbonboard --filepath=\"emissions.csv\"\n",
    "http://127.0.0.1:8050/"
   ]
  },
  {
   "cell_type": "code",
   "execution_count": null,
   "id": "cf681f51",
   "metadata": {},
   "outputs": [],
   "source": [
    "# Usage of PRIMERA\n",
    "from transformers import AutoTokenizer\n",
    "from longformer import LongformerEncoderDecoderForConditionalGeneration\n",
    "from longformer import LongformerEncoderDecoderConfig\n",
    "\n",
    "tokenizer = AutoTokenizer.from_pretrained('./PRIMERA_model/')\n",
    "config = LongformerEncoderDecoderConfig.from_pretrained('./PRIMERA_model/')\n",
    "model = LongformerEncoderDecoderForConditionalGeneration.from_pretrained(\n",
    "            './PRIMERA_model/', config=config)from transformers import AutoTokenizer\n",
    "from longformer import LongformerEncoderDecoderForConditionalGeneration\n",
    "from longformer import LongformerEncoderDecoderConfig\n",
    "\n",
    "tokenizer = AutoTokenizer.from_pretrained('./PRIMERA_model/')\n",
    "config = LongformerEncoderDecoderConfig.from_pretrained('./PRIMERA_model/')\n",
    "model = LongformerEncoderDecoderForConditionalGeneration.from_pretrained(\n",
    "            './PRIMERA_model/', config=config)"
   ]
  }
 ],
 "metadata": {
  "kernelspec": {
   "display_name": "base",
   "language": "python",
   "name": "python3"
  },
  "language_info": {
   "codemirror_mode": {
    "name": "ipython",
    "version": 3
   },
   "file_extension": ".py",
   "mimetype": "text/x-python",
   "name": "python",
   "nbconvert_exporter": "python",
   "pygments_lexer": "ipython3",
   "version": "3.12.9"
  }
 },
 "nbformat": 4,
 "nbformat_minor": 5
}
