{
 "cells": [
  {
   "cell_type": "code",
   "execution_count": 76,
   "id": "771b5948",
   "metadata": {},
   "outputs": [],
   "source": [
    "from codecarbon import EmissionsTracker\n",
    "from codecarbon import track_emissions\n",
    "# Load the ROUGE metric\n",
    "import evaluate\n",
    "from evaluate import load\n",
    "\n",
    "import pandas as pd"
   ]
  },
  {
   "cell_type": "code",
   "execution_count": 77,
   "id": "a9b5b351",
   "metadata": {},
   "outputs": [
    {
     "name": "stdout",
     "output_type": "stream",
     "text": [
      "NAME             ID              SIZE      MODIFIED   \n",
      "llama3:8b        365c0bd3c000    4.7 GB    2 days ago    \n",
      "llama3:latest    365c0bd3c000    4.7 GB    2 days ago    \n"
     ]
    }
   ],
   "source": [
    "!ollama list"
   ]
  },
  {
   "cell_type": "code",
   "execution_count": 78,
   "id": "ed39797c",
   "metadata": {},
   "outputs": [
    {
     "name": "stdout",
     "output_type": "stream",
     "text": [
      "test: 5622\n"
     ]
    }
   ],
   "source": [
    "# read files(src)\n",
    "# 1 筆一行，||||| 分 document\n",
    "\n",
    "f = open(\"./Data/test.src.txt\",\"r\")\n",
    "test_data = f.readlines()\n",
    "f.close()\n",
    "\n",
    "print(f\"test: {len(test_data)}\")"
   ]
  },
  {
   "cell_type": "code",
   "execution_count": 79,
   "id": "6bd28445",
   "metadata": {},
   "outputs": [
    {
     "name": "stdout",
     "output_type": "stream",
     "text": [
      "– It's a race for the governor's mansion in 11 states today, and the GOP could end the night at the helm of more than two-thirds of the 50 states. The GOP currently controls 29 of the country's top state offices; it's expected to keep the three Republican ones that are up for grabs (Utah, North Dakota, and Indiana), and wrest North Carolina from the Dems. That brings its toll to 30, with the potential to take three more, reports NPR. Races in Montana, New Hampshire, and Washington are still too close to call, and in all three, Democrat incumbents aren't seeking reelection. The results could have a big impact on health care, since a Supreme Court ruling grants states the ability to opt out of ObamaCare's Medicaid expansion. \"A Romney victory would dramatically empower Republican governors,\" said one analyst. Click for NPR's state-by-state breakdown of what could happen.\n",
      "\n",
      "5622\n"
     ]
    }
   ],
   "source": [
    "f = open(\"./Data/test.txt\",\"r\")\n",
    "test_result = f.readlines()\n",
    "f.close()\n",
    "\n",
    "print(test_result[0])\n",
    "print(len(test_result))"
   ]
  },
  {
   "cell_type": "code",
   "execution_count": 80,
   "id": "c8bd7ff5",
   "metadata": {},
   "outputs": [],
   "source": [
    "import requests\n",
    "url = \"http://localhost:11434/api/chat\"\n",
    "headers = {\"Content-Type\": \"application/json\"}"
   ]
  },
  {
   "cell_type": "code",
   "execution_count": 88,
   "id": "b8172ba7",
   "metadata": {},
   "outputs": [
    {
     "name": "stdout",
     "output_type": "stream",
     "text": [
      "– It's a race for the governor's mansion in 11 states today, and the GOP could end the night at the helm of more than two-thirds of the 50 states. The GOP currently controls 29 of the country's top state offices; it's expected to keep the three Republican ones that are up for grabs (Utah, North Dakota, and Indiana), and wrest North Carolina from the Dems. That brings its toll to 30, with the potential to take three more, reports NPR. Races in Montana, New Hampshire, and Washington are still too close to call, and in all three, Democrat incumbents aren't seeking reelection. The results could have a big impact on health care, since a Supreme Court ruling grants states the ability to opt out of ObamaCare's Medicaid expansion. \"A Romney victory would dramatically empower Republican governors,\" said one analyst. Click for NPR's state-by-state breakdown of what could happen.\n",
      "\n",
      "Voters in 11 states will elect their governors tonight, with Republicans expected to increase their numbers by at least one and potentially extend their hold on over two-thirds of the nation's top state offices. Eight Democratic-held seats are up for grabs, while three Republican-held seats are also contested. Competitive races are only seen in Montana, New Hampshire, and Washington, where incumbent Democratic governors aren't running again. Republicans are expected to win in North Carolina, Utah, North Dakota, and Indiana, while Democrats will likely hold on to seats in West Virginia and Missouri.\n",
      "Voters in 11 states will pick their governors tonight, and Republicans appear on track to increase their numbers by at least one, and with the potential to extend their hold to more than two-thirds of the nation's top state offices. Eight of the gubernatorial seats up for grabs today are now held by Democrats; three are in Republican hands. Republicans currently hold 29 governorships, Democrats have 20; and Rhode Island's Gov. Lincoln Chafee is an Independent.\n",
      "\n",
      "Polls and race analysts suggest that only three of tonight's contests are considered competitive, all in states where incumbent Democratic governors aren't running again: Montana, New Hampshire, and Washington. While those state races remain too close to call, Republicans are expected to wrest the North Carolina governorship from Democratic control, and to easily win GOP-held seats in Utah, North Dakota, and Indiana.\n",
      "\n",
      "Democrats are likely hold on to their seats in West Virginia and Missouri; and expected to notch safe wins in races for seats they hold in Vermont and Delaware. While the occupant of the governor's office is historically far less important than the party that controls the state legislature, top state officials in coming years are expected to wield significant influence in at least one major area - health care.\n",
      "\n",
      "Republicans are expected to win in North Carolina, Utah, North Dakota, and Indiana, while Democrats will likely hold on to seats in West Virginia and Missouri.\n"
     ]
    }
   ],
   "source": [
    "import requests\n",
    "\n",
    "def chat_with_ollama(document, model=\"llama3:8b\"):\n",
    "    url = \"http://localhost:11434/api/chat\"\n",
    "    headers = {\"Content-Type\": \"application/json\"}\n",
    "    data = {\n",
    "        \"model\": model,\n",
    "        \"messages\":[{\"role\": \"system\", \"content\": \"Summarize the text into a concise but complete summary. Include the main points and key details. utput only the summary text — do not include any labels, introductions, or explanations.\"},\"\"],\n",
    "        \"stream\": False  # 設為 True 可以接收串流回傳\n",
    "    }\n",
    "\n",
    "    articles = document.split(\"|||||\")\n",
    "    data[\"messages\"][1] = {\"role\": \"user\", \"content\": articles[0]}\n",
    "    response = requests.post(url, headers=headers, json=data)\n",
    "    result = response.json()\n",
    "    summary = result['message']['content']\n",
    "    print(summary)\n",
    "    \n",
    "    data[\"messages\"][0] = {\"role\": \"system\", \"content\": f\"\"\"You are an expert in multi-document summarization. \n",
    "You have a summary based on one article. The user will provide an related article. \n",
    "\n",
    "If the article content user provide contains any new perspectives or additional information, please integrate those into the summary by modifying only the necessary parts.\n",
    "\n",
    "[ORIGINAL SUMMARY]\n",
    "{summary}\n",
    "\n",
    "Output only the new summary itself — do not include any labels, introductions, or explanations.\"\"\"}\n",
    "    \n",
    "    for content in articles[1:]:\n",
    "        data[\"messages\"][1] = {\"role\": \"user\", \"content\": content}\n",
    "        response = requests.post(url, headers=headers, json=data)\n",
    "        result = response.json()\n",
    "        summary = result['message']['content']\n",
    "    \n",
    "    return summary\n",
    "\n",
    "print(test_result[0])\n",
    "print(chat_with_ollama(test_data[0]))"
   ]
  },
  {
   "cell_type": "code",
   "execution_count": 89,
   "id": "5842ae3a",
   "metadata": {},
   "outputs": [
    {
     "name": "stderr",
     "output_type": "stream",
     "text": [
      "[codecarbon WARNING @ 18:18:57] Multiple instances of codecarbon are allowed to run at the same time.\n",
      "[codecarbon WARNING @ 18:18:57] Error while trying to count physical CPUs: [Errno 2] No such file or directory: 'lscpu'. Defaulting to 1.\n",
      "[codecarbon INFO @ 18:18:57] [setup] RAM Tracking...\n",
      "[codecarbon INFO @ 18:18:57] [setup] CPU Tracking...\n",
      "[codecarbon WARNING @ 18:18:57] We saw that you have a Apple M2 Max but we don't know it. Please contact us.\n",
      "[codecarbon WARNING @ 18:18:58] No CPU tracking mode found. Falling back on estimation based on TDP for CPU. \n",
      " Mac OS and ARM processor detected: Please enable PowerMetrics sudo to measure CPU\n",
      "\n",
      "[codecarbon INFO @ 18:18:58] CPU Model on constant consumption mode: Apple M2 Max\n",
      "[codecarbon WARNING @ 18:18:58] No CPU tracking mode found. Falling back on CPU constant mode.\n",
      "[codecarbon INFO @ 18:18:58] [setup] GPU Tracking...\n",
      "[codecarbon INFO @ 18:18:58] No GPU found.\n",
      "[codecarbon INFO @ 18:18:58] The below tracking methods have been set up:\n",
      "                RAM Tracking Method: RAM power estimation model\n",
      "                CPU Tracking Method: global constant\n",
      "                GPU Tracking Method: Unspecified\n",
      "            \n",
      "[codecarbon INFO @ 18:18:58] >>> Tracker's metadata:\n",
      "[codecarbon INFO @ 18:18:58]   Platform system: macOS-15.2-arm64-arm-64bit\n",
      "[codecarbon INFO @ 18:18:58]   Python version: 3.12.9\n",
      "[codecarbon INFO @ 18:18:58]   CodeCarbon version: 3.0.2\n",
      "[codecarbon INFO @ 18:18:58]   Available RAM : 64.000 GB\n",
      "[codecarbon INFO @ 18:18:58]   CPU count: 12 thread(s) in 1 physical CPU(s)\n",
      "[codecarbon INFO @ 18:18:58]   CPU model: Apple M2 Max\n",
      "[codecarbon INFO @ 18:18:58]   GPU count: None\n",
      "[codecarbon INFO @ 18:18:58]   GPU model: None\n",
      "[codecarbon INFO @ 18:19:01] Emissions data (if any) will be saved to file /Users/lala/GreenAI/emissions.csv\n"
     ]
    },
    {
     "name": "stdout",
     "output_type": "stream",
     "text": [
      "Voters in 11 states will elect governors, with Republicans expected to gain at least one seat and potentially hold more than two-thirds of the nation's top state offices. Eight Democratic-held seats are up for grabs, while three Republican-held seats are also contested. Only three races are considered competitive: Montana, New Hampshire, and Washington. Republicans are likely to win in North Carolina, Utah, North Dakota, and Indiana, while Democrats will hold onto their seats in West Virginia and Missouri. Additionally, Independents Lincoln Chafee of Rhode Island and Peter Shumlin of Vermont are expected to retain their governorships.\n",
      "Here is the summary:\n",
      "\n",
      "The \"Hey Facebook what's SO wrong with a pic of two men kissing?\" story has been misreported in mainstream media. The photo used was from British soap opera \"Eastenders\" and featured mild, non-graphic content. The John Snow Kiss-In event on Facebook was not removed by Facebook but made private by the organizer after the event. Richard Metzger did not organize the London \"Kiss-In\" event but rather posted about it on Boing Boing.\n",
      "The Siskiyou County Board of Supervisors voted 4-1 to pursue secession from California, with proponents seeking to form a new state called Jefferson with other Northern California and Southern Oregon counties. Over 100 people attended the meeting, with nearly every hand raised in support of the declaration. Residents cited reasons such as a lack of representation in Sacramento, insufficient attention to major issues like water rights and rural fire prevention fees, and a desire for local government that understands their concerns.\n"
     ]
    },
    {
     "name": "stderr",
     "output_type": "stream",
     "text": [
      "[codecarbon INFO @ 18:19:31] Energy consumed for RAM : 0.000050 kWh. RAM Power : 6.0 W\n",
      "[codecarbon INFO @ 18:19:31] Delta energy consumed for CPU with constant : 0.000177 kWh, power : 42.5 W\n",
      "[codecarbon INFO @ 18:19:31] Energy consumed for All CPU : 0.000354 kWh\n",
      "[codecarbon INFO @ 18:19:31] 0.000404 kWh of electricity used since the beginning.\n"
     ]
    },
    {
     "name": "stdout",
     "output_type": "stream",
     "text": [
      "The crawl started from a list of every host in the Wayback Machine and was run at level 1, capturing URLs and their embeds, as well as outbound links and their embeds. The associated WARC files are not publicly available.\n"
     ]
    },
    {
     "name": "stderr",
     "output_type": "stream",
     "text": [
      "[codecarbon INFO @ 18:19:46] Energy consumed for RAM : 0.000075 kWh. RAM Power : 6.0 W\n",
      "[codecarbon INFO @ 18:19:46] Delta energy consumed for CPU with constant : 0.000177 kWh, power : 42.5 W\n",
      "[codecarbon INFO @ 18:19:46] Energy consumed for All CPU : 0.000532 kWh\n",
      "[codecarbon INFO @ 18:19:46] 0.000607 kWh of electricity used since the beginning.\n"
     ]
    },
    {
     "name": "stdout",
     "output_type": "stream",
     "text": [
      "Here is a concise summary of the text:\n",
      "\n",
      "The US Supreme Court is set to consider cases that could impact labor unions, affirmative action, and religious nonprofits. The court may gut public sector labor unions and roll back affirmative action at state universities. Litigation over state efforts to limit abortion and religious institutions' rights to opt out of providing contraception under Obamacare are also expected to land on the docket. Other potentially significant cases include a Texas dispute about whether states can compel government employees to pay union dues, a challenge to University of Texas at Austin's affirmative action program, and a case testing when abortion clinic regulations go too far.\n",
      "A preservationist discovered a cellar in a Manhattan building that could be the foundation of the Revolutionary War-era Bull's Head Tavern, where George Washington is believed to have visited. If confirmed, it would mean the building, slated for demolition to make way for a hotel, is Manhattan's oldest and most historic, dating back to the 1750s. The discovery includes Colonial-era joists and foundation walls, and historians agree that finding would make it very likely the oldest building remaining in Manhattan.\n"
     ]
    },
    {
     "name": "stderr",
     "output_type": "stream",
     "text": [
      "[codecarbon INFO @ 18:20:16] Energy consumed for RAM : 0.000125 kWh. RAM Power : 6.0 W\n",
      "[codecarbon INFO @ 18:20:16] Delta energy consumed for CPU with constant : 0.000177 kWh, power : 42.5 W\n",
      "[codecarbon INFO @ 18:20:16] Energy consumed for All CPU : 0.000886 kWh\n",
      "[codecarbon INFO @ 18:20:16] 0.001011 kWh of electricity used since the beginning.\n"
     ]
    },
    {
     "name": "stdout",
     "output_type": "stream",
     "text": [
      "An Israeli warplane shot down an unmanned aircraft that crossed into southern Israel from the Mediterranean near Gaza, but it remained unclear where the aircraft came from. An Iranian military official said the incident exposed the weakness of Israel's air defenses and claimed its anti-missile defense system \"does not work\" due to a lack of capacity. The Israeli military released video footage of the mid-air interception, showing a small aircraft being destroyed by a missile. The incident has sparked tensions between Israel and Iran, with threats of retaliation and counter-attacks.\n",
      "The Pompidou Centre in Paris hopes to display Picasso's \"The Hairdresser\" painting, worth millions, in May after it was recovered by US customs authorities. The 1911 cubist painting was reported missing from a storeroom in 2001 and smuggled into the US from Belgium. It is expected to be exhibited publicly again in May.\n"
     ]
    },
    {
     "name": "stderr",
     "output_type": "stream",
     "text": [
      "[codecarbon INFO @ 18:20:31] Energy consumed for RAM : 0.000150 kWh. RAM Power : 6.0 W\n",
      "[codecarbon INFO @ 18:20:31] Delta energy consumed for CPU with constant : 0.000177 kWh, power : 42.5 W\n",
      "[codecarbon INFO @ 18:20:31] Energy consumed for All CPU : 0.001063 kWh\n",
      "[codecarbon INFO @ 18:20:31] 0.001213 kWh of electricity used since the beginning.\n"
     ]
    },
    {
     "name": "stdout",
     "output_type": "stream",
     "text": [
      "Alexa Internet donated its crawl data to the Internet Archive starting in 1996, adding it to the Wayback Machine after a delay, with new data flowing in daily.\n",
      "Crystal Almeida, 26, and Scott Painter are still in critical condition but making remarkable recoveries after being wounded. Suspect Armando Luis Juarez, 29, was arrested Tuesday night after a police chase and initially charged with aggravated assault against a public servant and civilian. A capital murder charge was added after Santander's death.\n"
     ]
    },
    {
     "name": "stderr",
     "output_type": "stream",
     "text": [
      "[codecarbon INFO @ 18:20:45] \n",
      "Graceful stopping: collecting and writing information.\n",
      "Please wait a few seconds...\n",
      "[codecarbon INFO @ 18:20:45] Energy consumed for RAM : 0.000173 kWh. RAM Power : 6.0 W\n",
      "[codecarbon INFO @ 18:20:45] Delta energy consumed for CPU with constant : 0.000161 kWh, power : 42.5 W\n",
      "[codecarbon INFO @ 18:20:45] Energy consumed for All CPU : 0.001224 kWh\n",
      "[codecarbon INFO @ 18:20:45] 0.001397 kWh of electricity used since the beginning.\n",
      "/Users/lala/miniconda3/lib/python3.12/site-packages/codecarbon/output_methods/file.py:59: FutureWarning: The behavior of DataFrame concatenation with empty or all-NA entries is deprecated. In a future version, this will no longer exclude empty or all-NA columns when determining the result dtypes. To retain the old behavior, exclude the relevant entries before the concat operation.\n",
      "  df = pd.concat([df, new_df])\n",
      "[codecarbon INFO @ 18:20:45] Done!\n",
      "\n"
     ]
    }
   ],
   "source": [
    "candidates = []\n",
    "data_num = 10\n",
    "\n",
    "@track_emissions()\n",
    "def summarize():\n",
    "    for document in test_data[:data_num]:\n",
    "        candidates.append(chat_with_ollama(document))\n",
    "        \n",
    "summarize()"
   ]
  },
  {
   "cell_type": "code",
   "execution_count": 90,
   "id": "df3a545c",
   "metadata": {},
   "outputs": [
    {
     "name": "stdout",
     "output_type": "stream",
     "text": [
      "It's a race for the governor's mansion in 11 states today, and the GOP could end the night at the helm of more than two-thirds of the 50 states. The GOP currently controls 29 of the country's top state offices; it's expected to keep the three Republican ones that are up for grabs (Utah, North Dakota, and Indiana), and wrest North Carolina from the Dems. That brings its toll to 30, with the potential to take three more, reports NPR. Races in Montana, New Hampshire, and Washington are still too close to call, and in all three, Democrat incumbents aren't seeking reelection. The results could have a big impact on health care, since a Supreme Court ruling grants states the ability to opt out of ObamaCare's Medicaid expansion. \"A Romney victory would dramatically empower Republican governors,\" said one analyst. Click for NPR's state-by-state breakdown of what could happen.\n",
      "\n"
     ]
    }
   ],
   "source": [
    "references = [i.strip(\"– \") for i in test_result[:data_num]]\n",
    "print(references[0])"
   ]
  },
  {
   "cell_type": "code",
   "execution_count": 91,
   "id": "f7ed2a3d",
   "metadata": {},
   "outputs": [
    {
     "name": "stdout",
     "output_type": "stream",
     "text": [
      "ROUGE:\n",
      "rouge1: 0.28677156722528296\n",
      "rouge2: 0.0934506058356657\n",
      "rougeL: 0.14767963660801214\n",
      "rougeLsum: 0.15345102116397824\n"
     ]
    }
   ],
   "source": [
    "# rouge\n",
    "rouge = evaluate.load('rouge')\n",
    "results_R = rouge.compute(predictions=candidates, references=references) #結果平均\n",
    "\n",
    "print(\"ROUGE:\")\n",
    "print(f\"rouge1: {results_R['rouge1']}\\nrouge2: {results_R['rouge2']}\\nrougeL: {results_R['rougeL']}\\nrougeLsum: {results_R[\"rougeLsum\"]}\")"
   ]
  },
  {
   "cell_type": "code",
   "execution_count": 92,
   "id": "e21af2aa",
   "metadata": {},
   "outputs": [
    {
     "name": "stdout",
     "output_type": "stream",
     "text": [
      "BLEU:\n",
      "bleu: 0.024146215753387622\n",
      "precisions: [0.545045045045045, 0.1845102505694761, 0.07834101382488479, 0.038461538461538464]\n",
      "brevity_penalty: 0.18301298027380744\n",
      "length_ratio: 0.37061769616026713\n",
      "translation_length: 888\n",
      "reference_length: 2396\n"
     ]
    }
   ],
   "source": [
    "# bleu\n",
    "# 不需要 brevity_prnalty，可能要考慮手動算 bleu(無BP)\n",
    "bleu = evaluate.load('bleu')\n",
    "results_B = bleu.compute(predictions=candidates, references=references)\n",
    "print(\"BLEU:\")\n",
    "print(f\"bleu: {results_B['bleu']}\\nprecisions: {results_B['precisions']}\\nbrevity_penalty: {results_B['brevity_penalty']}\\nlength_ratio: {results_B[\"length_ratio\"]}\\ntranslation_length: {results_B[\"translation_length\"]}\\nreference_length: {results_B[\"reference_length\"]}\")"
   ]
  },
  {
   "cell_type": "code",
   "execution_count": 93,
   "id": "7a960562",
   "metadata": {},
   "outputs": [
    {
     "data": {
      "text/plain": [
       "\"results_R = {}\\nresults_R['rouge1'] = 0.3042215287471872\\nresults_R['rouge2'] = 0.08818775179799443\\nresults_R['rougeL'] =  0.1639229255348068\\nresults_R['rougeLsum'] = 0.16663142006267556\\n\\nresults_B = {}\\nresults_B['bleu'] = 0.02515597115661552\\n\\nprint(results_R)\""
      ]
     },
     "execution_count": 93,
     "metadata": {},
     "output_type": "execute_result"
    }
   ],
   "source": [
    "'''results_R = {}\n",
    "results_R['rouge1'] = 0.3042215287471872\n",
    "results_R['rouge2'] = 0.08818775179799443\n",
    "results_R['rougeL'] =  0.1639229255348068\n",
    "results_R['rougeLsum'] = 0.16663142006267556\n",
    "\n",
    "results_B = {}\n",
    "results_B['bleu'] = 0.02515597115661552\n",
    "\n",
    "print(results_R)'''"
   ]
  },
  {
   "cell_type": "code",
   "execution_count": 94,
   "id": "e55eae5f",
   "metadata": {},
   "outputs": [
    {
     "data": {
      "image/png": "[encoded data removed]",
      "text/plain": [
       "<Figure size 640x480 with 1 Axes>"
      ]
     },
     "metadata": {},
     "output_type": "display_data"
    }
   ],
   "source": [
    "import matplotlib.pyplot as plt\n",
    "\n",
    "x = ['rouge1', 'rouge2', 'rougeL', 'rougeLsum', 'bleu']\n",
    "y = [results_R[r] for r in x[:4]] + [results_B['bleu']]\n",
    "plt.bar(x,y)\n",
    "plt.title(\"llama3:8b\")\n",
    "plt.show()"
   ]
  },
  {
   "cell_type": "markdown",
   "id": "ab14916d",
   "metadata": {},
   "source": [
    "# codecarbon show\n",
    "carbonboard --filepath=\"emissions.csv\"\n",
    "http://127.0.0.1:8050/"
   ]
  }
 ],
 "metadata": {
  "kernelspec": {
   "display_name": "base",
   "language": "python",
   "name": "python3"
  },
  "language_info": {
   "codemirror_mode": {
    "name": "ipython",
    "version": 3
   },
   "file_extension": ".py",
   "mimetype": "text/x-python",
   "name": "python",
   "nbconvert_exporter": "python",
   "pygments_lexer": "ipython3",
   "version": "3.12.9"
  }
 },
 "nbformat": 4,
 "nbformat_minor": 5
}
