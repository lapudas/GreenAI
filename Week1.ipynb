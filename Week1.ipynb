{
 "cells": [
  {
   "cell_type": "code",
   "execution_count": 1,
   "id": "771b5948",
   "metadata": {},
   "outputs": [
    {
     "name": "stderr",
     "output_type": "stream",
     "text": [
      "/Users/lala/miniconda3/lib/python3.12/site-packages/tqdm/auto.py:21: TqdmWarning: IProgress not found. Please update jupyter and ipywidgets. See https://ipywidgets.readthedocs.io/en/stable/user_install.html\n",
      "  from .autonotebook import tqdm as notebook_tqdm\n"
     ]
    }
   ],
   "source": [
    "from codecarbon import EmissionsTracker\n",
    "from codecarbon import track_emissions\n",
    "# Load the ROUGE metric\n",
    "import evaluate\n",
    "from evaluate import load\n",
    "\n",
    "import pandas as pd"
   ]
  },
  {
   "cell_type": "code",
   "execution_count": 2,
   "id": "a9b5b351",
   "metadata": {},
   "outputs": [
    {
     "name": "stdout",
     "output_type": "stream",
     "text": [
      "NAME             ID              SIZE      MODIFIED   \n",
      "llama3:8b        365c0bd3c000    4.7 GB    2 days ago    \n",
      "llama3:latest    365c0bd3c000    4.7 GB    2 days ago    \n"
     ]
    }
   ],
   "source": [
    "!ollama list"
   ]
  },
  {
   "cell_type": "code",
   "execution_count": 3,
   "id": "ed39797c",
   "metadata": {},
   "outputs": [
    {
     "name": "stdout",
     "output_type": "stream",
     "text": [
      "test: 5622\n"
     ]
    }
   ],
   "source": [
    "# read files(src)\n",
    "# 1 筆一行，||||| 分 document\n",
    "'''f = open(\"./Data/train.src.txt\",\"r\")\n",
    "train_data = f.readlines()\n",
    "f.close()'''\n",
    "\n",
    "f = open(\"./Data/test.src.txt\",\"r\")\n",
    "test_data = f.readlines()\n",
    "f.close()\n",
    "\n",
    "'''f = open(\"./Data/val.src.txt\",\"r\")\n",
    "val_data = f.readlines()\n",
    "f.close()'''\n",
    "\n",
    "print(f\"test: {len(test_data)}\")#(f\"train: {len(train_data)}\\ntest: {len(test_data)}\\nval: {len(val_data)}\")"
   ]
  },
  {
   "cell_type": "code",
   "execution_count": 4,
   "id": "6bd28445",
   "metadata": {},
   "outputs": [
    {
     "name": "stdout",
     "output_type": "stream",
     "text": [
      "– It's a race for the governor's mansion in 11 states today, and the GOP could end the night at the helm of more than two-thirds of the 50 states. The GOP currently controls 29 of the country's top state offices; it's expected to keep the three Republican ones that are up for grabs (Utah, North Dakota, and Indiana), and wrest North Carolina from the Dems. That brings its toll to 30, with the potential to take three more, reports NPR. Races in Montana, New Hampshire, and Washington are still too close to call, and in all three, Democrat incumbents aren't seeking reelection. The results could have a big impact on health care, since a Supreme Court ruling grants states the ability to opt out of ObamaCare's Medicaid expansion. \"A Romney victory would dramatically empower Republican governors,\" said one analyst. Click for NPR's state-by-state breakdown of what could happen.\n",
      "\n",
      "5622\n"
     ]
    }
   ],
   "source": [
    "f = open(\"./Data/test.txt\",\"r\")\n",
    "test_result = f.readlines()\n",
    "f.close()\n",
    "\n",
    "print(test_result[0])\n",
    "print(len(test_result))"
   ]
  },
  {
   "cell_type": "code",
   "execution_count": 5,
   "id": "b8172ba7",
   "metadata": {},
   "outputs": [
    {
     "name": "stdout",
     "output_type": "stream",
     "text": [
      "Voters in 11 states will pick their governors tonight, with Republicans expected to increase their numbers by at least one and potentially hold more than two-thirds of the nation's top state offices. Eight gubernatorial seats currently held by Democrats are up for grabs, while three are held by Republicans. Polls suggest that only three contests are competitive: Montana, New Hampshire, and Washington. Republicans are likely to win governorships in North Carolina, Utah, North Dakota, and Indiana, while Democrats may hold onto their seats in West Virginia, Missouri, Vermont, and Delaware.\n"
     ]
    }
   ],
   "source": [
    "import requests\n",
    "\n",
    "def chat_with_ollama(document, model=\"llama3:8b\"):\n",
    "    url = \"http://localhost:11434/api/chat\"\n",
    "    headers = {\"Content-Type\": \"application/json\"}\n",
    "    data = {\n",
    "        \"model\": model,\n",
    "        \"messages\":[{\"role\": \"system\", \"content\": \"Summarize the text into a short. Output only the summary itself.\"},\"\"],\n",
    "        # \"prompt\": \"Summarize the following text into a short. Output only the summary itself.\\n\\n\"+prompt,\n",
    "        \"stream\": False  # 設為 True 可以接收串流回傳\n",
    "    }\n",
    "\n",
    "    summary = \"\"\n",
    "    for content in document.split(\"|||||\"):\n",
    "        data[\"messages\"][1] = {\"role\": \"user\", \"content\": content}\n",
    "        response = requests.post(url, headers=headers, json=data)\n",
    "        result = response.json()\n",
    "        summary += result['message']['content'] + \"\\n\"\n",
    "        \n",
    "    data[\"messages\"][0] = {\"role\": \"system\", \"content\": \"Cobine the summaries and provide a comprehensive summary. Output only the summary itself.\"}\n",
    "    response = requests.post(url, headers=headers, json=data)\n",
    "    result = response.json()\n",
    "    return result['message']['content']\n",
    "\n",
    "#print(test_data[0])\n",
    "print(chat_with_ollama(test_data[0]))"
   ]
  },
  {
   "cell_type": "code",
   "execution_count": 6,
   "id": "5842ae3a",
   "metadata": {},
   "outputs": [
    {
     "name": "stderr",
     "output_type": "stream",
     "text": [
      "[codecarbon WARNING @ 18:06:25] Multiple instances of codecarbon are allowed to run at the same time.\n",
      "[codecarbon WARNING @ 18:06:25] Error while trying to count physical CPUs: [Errno 2] No such file or directory: 'lscpu'. Defaulting to 1.\n",
      "[codecarbon INFO @ 18:06:25] [setup] RAM Tracking...\n",
      "[codecarbon INFO @ 18:06:25] [setup] CPU Tracking...\n"
     ]
    },
    {
     "name": "stderr",
     "output_type": "stream",
     "text": [
      "[codecarbon WARNING @ 18:06:25] We saw that you have a Apple M2 Max but we don't know it. Please contact us.\n",
      "[codecarbon WARNING @ 18:06:25] No CPU tracking mode found. Falling back on estimation based on TDP for CPU. \n",
      " Mac OS and ARM processor detected: Please enable PowerMetrics sudo to measure CPU\n",
      "\n",
      "[codecarbon INFO @ 18:06:25] CPU Model on constant consumption mode: Apple M2 Max\n",
      "[codecarbon WARNING @ 18:06:25] No CPU tracking mode found. Falling back on CPU constant mode.\n",
      "[codecarbon INFO @ 18:06:25] [setup] GPU Tracking...\n",
      "[codecarbon INFO @ 18:06:25] No GPU found.\n",
      "[codecarbon INFO @ 18:06:25] The below tracking methods have been set up:\n",
      "                RAM Tracking Method: RAM power estimation model\n",
      "                CPU Tracking Method: global constant\n",
      "                GPU Tracking Method: Unspecified\n",
      "            \n",
      "[codecarbon INFO @ 18:06:25] >>> Tracker's metadata:\n",
      "[codecarbon INFO @ 18:06:25]   Platform system: macOS-15.2-arm64-arm-64bit\n",
      "[codecarbon INFO @ 18:06:25]   Python version: 3.12.9\n",
      "[codecarbon INFO @ 18:06:25]   CodeCarbon version: 3.0.2\n",
      "[codecarbon INFO @ 18:06:25]   Available RAM : 64.000 GB\n",
      "[codecarbon INFO @ 18:06:25]   CPU count: 12 thread(s) in 1 physical CPU(s)\n",
      "[codecarbon INFO @ 18:06:25]   CPU model: Apple M2 Max\n",
      "[codecarbon INFO @ 18:06:25]   GPU count: None\n",
      "[codecarbon INFO @ 18:06:25]   GPU model: None\n",
      "[codecarbon INFO @ 18:06:26] Emissions data (if any) will be saved to file /Users/lala/GreenAI/emissions.csv\n",
      "[codecarbon INFO @ 18:06:41] Energy consumed for RAM : 0.000025 kWh. RAM Power : 6.0 W\n",
      "[codecarbon INFO @ 18:06:41] Delta energy consumed for CPU with constant : 0.000177 kWh, power : 42.5 W\n",
      "[codecarbon INFO @ 18:06:41] Energy consumed for All CPU : 0.000177 kWh\n",
      "[codecarbon INFO @ 18:06:41] 0.000202 kWh of electricity used since the beginning.\n",
      "[codecarbon INFO @ 18:06:56] Energy consumed for RAM : 0.000050 kWh. RAM Power : 6.0 W\n",
      "[codecarbon INFO @ 18:06:56] Delta energy consumed for CPU with constant : 0.000177 kWh, power : 42.5 W\n",
      "[codecarbon INFO @ 18:06:56] Energy consumed for All CPU : 0.000354 kWh\n",
      "[codecarbon INFO @ 18:06:56] 0.000404 kWh of electricity used since the beginning.\n",
      "[codecarbon INFO @ 18:07:11] Energy consumed for RAM : 0.000075 kWh. RAM Power : 6.0 W\n",
      "[codecarbon INFO @ 18:07:11] Delta energy consumed for CPU with constant : 0.000177 kWh, power : 42.5 W\n",
      "[codecarbon INFO @ 18:07:11] Energy consumed for All CPU : 0.000531 kWh\n",
      "[codecarbon INFO @ 18:07:11] 0.000606 kWh of electricity used since the beginning.\n",
      "[codecarbon INFO @ 18:07:26] Energy consumed for RAM : 0.000100 kWh. RAM Power : 6.0 W\n",
      "[codecarbon INFO @ 18:07:26] Delta energy consumed for CPU with constant : 0.000177 kWh, power : 42.5 W\n",
      "[codecarbon INFO @ 18:07:26] Energy consumed for All CPU : 0.000709 kWh\n",
      "[codecarbon INFO @ 18:07:26] 0.000809 kWh of electricity used since the beginning.\n",
      "[codecarbon INFO @ 18:07:41] Energy consumed for RAM : 0.000125 kWh. RAM Power : 6.0 W\n",
      "[codecarbon INFO @ 18:07:41] Delta energy consumed for CPU with constant : 0.000177 kWh, power : 42.5 W\n",
      "[codecarbon INFO @ 18:07:41] Energy consumed for All CPU : 0.000886 kWh\n",
      "[codecarbon INFO @ 18:07:41] 0.001011 kWh of electricity used since the beginning.\n",
      "[codecarbon INFO @ 18:07:56] Energy consumed for RAM : 0.000150 kWh. RAM Power : 6.0 W\n",
      "[codecarbon INFO @ 18:07:56] Delta energy consumed for CPU with constant : 0.000177 kWh, power : 42.5 W\n",
      "[codecarbon INFO @ 18:07:56] Energy consumed for All CPU : 0.001063 kWh\n",
      "[codecarbon INFO @ 18:07:56] 0.001213 kWh of electricity used since the beginning.\n",
      "[codecarbon INFO @ 18:08:11] Energy consumed for RAM : 0.000175 kWh. RAM Power : 6.0 W\n",
      "[codecarbon INFO @ 18:08:11] Delta energy consumed for CPU with constant : 0.000177 kWh, power : 42.5 W\n",
      "[codecarbon INFO @ 18:08:11] Energy consumed for All CPU : 0.001240 kWh\n",
      "[codecarbon INFO @ 18:08:11] 0.001415 kWh of electricity used since the beginning.\n",
      "[codecarbon INFO @ 18:08:26] Energy consumed for RAM : 0.000200 kWh. RAM Power : 6.0 W\n",
      "[codecarbon INFO @ 18:08:26] Delta energy consumed for CPU with constant : 0.000177 kWh, power : 42.5 W\n",
      "[codecarbon INFO @ 18:08:26] Energy consumed for All CPU : 0.001417 kWh\n",
      "[codecarbon INFO @ 18:08:26] 0.001617 kWh of electricity used since the beginning.\n",
      "[codecarbon INFO @ 18:08:26] 0.008654 g.CO2eq/s mean an estimation of 272.908536892068 kg.CO2eq/year\n",
      "[codecarbon INFO @ 18:08:41] Energy consumed for RAM : 0.000225 kWh. RAM Power : 6.0 W\n",
      "[codecarbon INFO @ 18:08:41] Delta energy consumed for CPU with constant : 0.000177 kWh, power : 42.5 W\n",
      "[codecarbon INFO @ 18:08:41] Energy consumed for All CPU : 0.001595 kWh\n",
      "[codecarbon INFO @ 18:08:41] 0.001820 kWh of electricity used since the beginning.\n",
      "[codecarbon INFO @ 18:08:57] Energy consumed for RAM : 0.000250 kWh. RAM Power : 6.0 W\n",
      "[codecarbon INFO @ 18:08:57] Delta energy consumed for CPU with constant : 0.000177 kWh, power : 42.5 W\n",
      "[codecarbon INFO @ 18:08:57] Energy consumed for All CPU : 0.001772 kWh\n",
      "[codecarbon INFO @ 18:08:57] 0.002022 kWh of electricity used since the beginning.\n",
      "[codecarbon INFO @ 18:09:12] Energy consumed for RAM : 0.000275 kWh. RAM Power : 6.0 W\n",
      "[codecarbon INFO @ 18:09:12] Delta energy consumed for CPU with constant : 0.000177 kWh, power : 42.5 W\n",
      "[codecarbon INFO @ 18:09:12] Energy consumed for All CPU : 0.001949 kWh\n",
      "[codecarbon INFO @ 18:09:12] 0.002224 kWh of electricity used since the beginning.\n",
      "[codecarbon INFO @ 18:09:27] Energy consumed for RAM : 0.000300 kWh. RAM Power : 6.0 W\n",
      "[codecarbon INFO @ 18:09:27] Delta energy consumed for CPU with constant : 0.000177 kWh, power : 42.5 W\n",
      "[codecarbon INFO @ 18:09:27] Energy consumed for All CPU : 0.002126 kWh\n",
      "[codecarbon INFO @ 18:09:27] 0.002426 kWh of electricity used since the beginning.\n",
      "[codecarbon INFO @ 18:09:36] \n",
      "Graceful stopping: collecting and writing information.\n",
      "Please wait a few seconds...\n",
      "[codecarbon INFO @ 18:09:36] Energy consumed for RAM : 0.000317 kWh. RAM Power : 6.0 W\n",
      "[codecarbon INFO @ 18:09:36] Delta energy consumed for CPU with constant : 0.000116 kWh, power : 42.5 W\n",
      "[codecarbon INFO @ 18:09:36] Energy consumed for All CPU : 0.002242 kWh\n",
      "[codecarbon INFO @ 18:09:36] 0.002559 kWh of electricity used since the beginning.\n",
      "/Users/lala/miniconda3/lib/python3.12/site-packages/codecarbon/output_methods/file.py:59: FutureWarning: The behavior of DataFrame concatenation with empty or all-NA entries is deprecated. In a future version, this will no longer exclude empty or all-NA columns when determining the result dtypes. To retain the old behavior, exclude the relevant entries before the concat operation.\n",
      "  df = pd.concat([df, new_df])\n",
      "[codecarbon INFO @ 18:09:36] Done!\n",
      "\n"
     ]
    }
   ],
   "source": [
    "candidates = []\n",
    "data_num = 10\n",
    "\n",
    "@track_emissions()\n",
    "def summarize():\n",
    "    for document in test_data[:data_num]:\n",
    "        candidates.append(chat_with_ollama(document))\n",
    "        \n",
    "summarize()"
   ]
  },
  {
   "cell_type": "code",
   "execution_count": 7,
   "id": "df3a545c",
   "metadata": {},
   "outputs": [
    {
     "name": "stdout",
     "output_type": "stream",
     "text": [
      "It's a race for the governor's mansion in 11 states today, and the GOP could end the night at the helm of more than two-thirds of the 50 states. The GOP currently controls 29 of the country's top state offices; it's expected to keep the three Republican ones that are up for grabs (Utah, North Dakota, and Indiana), and wrest North Carolina from the Dems. That brings its toll to 30, with the potential to take three more, reports NPR. Races in Montana, New Hampshire, and Washington are still too close to call, and in all three, Democrat incumbents aren't seeking reelection. The results could have a big impact on health care, since a Supreme Court ruling grants states the ability to opt out of ObamaCare's Medicaid expansion. \"A Romney victory would dramatically empower Republican governors,\" said one analyst. Click for NPR's state-by-state breakdown of what could happen.\n",
      "\n"
     ]
    }
   ],
   "source": [
    "references = [i.strip(\"– \") for i in test_result[:data_num]]\n",
    "print(references[0])"
   ]
  },
  {
   "cell_type": "code",
   "execution_count": 8,
   "id": "f7ed2a3d",
   "metadata": {},
   "outputs": [
    {
     "name": "stdout",
     "output_type": "stream",
     "text": [
      "ROUGE:\n",
      "rouge1: 0.3378744615661706\n",
      "rouge2: 0.10599573592633435\n",
      "rougeL: 0.18710118589737207\n",
      "rougeLsum: 0.189987337238802\n"
     ]
    }
   ],
   "source": [
    "# rouge\n",
    "rouge = evaluate.load('rouge')\n",
    "results_R = rouge.compute(predictions=candidates, references=references) #結果平均\n",
    "\n",
    "print(\"ROUGE:\")\n",
    "print(f\"rouge1: {results_R['rouge1']}\\nrouge2: {results_R['rouge2']}\\nrougeL: {results_R['rougeL']}\\nrougeLsum: {results_R[\"rougeLsum\"]}\")"
   ]
  },
  {
   "cell_type": "code",
   "execution_count": 9,
   "id": "e21af2aa",
   "metadata": {},
   "outputs": [
    {
     "name": "stdout",
     "output_type": "stream",
     "text": [
      "BLEU:\n",
      "bleu: 0.037314317830048384\n",
      "precisions: [0.5402930402930403, 0.16358595194085027, 0.0708955223880597, 0.03672316384180791]\n",
      "brevity_penalty: 0.3029646357019853\n",
      "length_ratio: 0.4557595993322204\n",
      "translation_length: 1092\n",
      "reference_length: 2396\n"
     ]
    }
   ],
   "source": [
    "# bleu\n",
    "# 不需要 brevity_prnalty，可能要考慮手動算 bleu(無BP)\n",
    "bleu = evaluate.load('bleu')\n",
    "results_B = bleu.compute(predictions=candidates, references=references)\n",
    "print(\"BLEU:\")\n",
    "print(f\"bleu: {results_B['bleu']}\\nprecisions: {results_B['precisions']}\\nbrevity_penalty: {results_B['brevity_penalty']}\\nlength_ratio: {results_B[\"length_ratio\"]}\\ntranslation_length: {results_B[\"translation_length\"]}\\nreference_length: {results_B[\"reference_length\"]}\")"
   ]
  },
  {
   "cell_type": "code",
   "execution_count": 10,
   "id": "7a960562",
   "metadata": {},
   "outputs": [
    {
     "data": {
      "text/plain": [
       "\"results_R = {}\\nresults_R['rouge1'] = 0.3042215287471872\\nresults_R['rouge2'] = 0.08818775179799443\\nresults_R['rougeL'] =  0.1639229255348068\\nresults_R['rougeLsum'] = 0.16663142006267556\\n\\nresults_B = {}\\nresults_B['bleu'] = 0.02515597115661552\\n\\nprint(results_R)\""
      ]
     },
     "execution_count": 10,
     "metadata": {},
     "output_type": "execute_result"
    }
   ],
   "source": [
    "'''results_R = {}\n",
    "results_R['rouge1'] = 0.3042215287471872\n",
    "results_R['rouge2'] = 0.08818775179799443\n",
    "results_R['rougeL'] =  0.1639229255348068\n",
    "results_R['rougeLsum'] = 0.16663142006267556\n",
    "\n",
    "results_B = {}\n",
    "results_B['bleu'] = 0.02515597115661552\n",
    "\n",
    "print(results_R)'''"
   ]
  },
  {
   "cell_type": "code",
   "execution_count": 11,
   "id": "e55eae5f",
   "metadata": {},
   "outputs": [
    {
     "data": {
      "image/png": "[encoded data removed]",
      "text/plain": [
       "<Figure size 640x480 with 1 Axes>"
      ]
     },
     "metadata": {},
     "output_type": "display_data"
    }
   ],
   "source": [
    "import matplotlib.pyplot as plt\n",
    "\n",
    "x = ['rouge1', 'rouge2', 'rougeL', 'rougeLsum', 'bleu']\n",
    "y = [results_R[r] for r in x[:4]] + [results_B['bleu']]\n",
    "plt.bar(x,y)\n",
    "plt.title(\"llama3:8b\")\n",
    "plt.show()"
   ]
  },
  {
   "cell_type": "markdown",
   "id": "ab14916d",
   "metadata": {},
   "source": [
    "# codecarbon show\n",
    "carbonboard --filepath=\"emissions.csv\"\n",
    "http://127.0.0.1:8050/"
   ]
  }
 ],
 "metadata": {
  "kernelspec": {
   "display_name": "base",
   "language": "python",
   "name": "python3"
  },
  "language_info": {
   "codemirror_mode": {
    "name": "ipython",
    "version": 3
   },
   "file_extension": ".py",
   "mimetype": "text/x-python",
   "name": "python",
   "nbconvert_exporter": "python",
   "pygments_lexer": "ipython3",
   "version": "3.12.9"
  }
 },
 "nbformat": 4,
 "nbformat_minor": 5
}
