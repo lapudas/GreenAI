{
 "cells": [
  {
   "cell_type": "code",
   "execution_count": 1,
   "id": "771b5948",
   "metadata": {},
   "outputs": [
    {
     "name": "stderr",
     "output_type": "stream",
     "text": [
      "/Users/lala/miniconda3/lib/python3.12/site-packages/tqdm/auto.py:21: TqdmWarning: IProgress not found. Please update jupyter and ipywidgets. See https://ipywidgets.readthedocs.io/en/stable/user_install.html\n",
      "  from .autonotebook import tqdm as notebook_tqdm\n"
     ]
    }
   ],
   "source": [
    "from codecarbon import EmissionsTracker\n",
    "from codecarbon import track_emissions\n",
    "# Load the ROUGE metric\n",
    "import evaluate\n",
    "from evaluate import load\n",
    "\n",
    "import pandas as pd"
   ]
  },
  {
   "cell_type": "code",
   "execution_count": 2,
   "id": "a9b5b351",
   "metadata": {},
   "outputs": [
    {
     "name": "stdout",
     "output_type": "stream",
     "text": [
      "NAME                                             ID              SIZE      MODIFIED     \n",
      "qwen3:0.6b                                       7df6b6e09427    522 MB    3 weeks ago     \n",
      "llama3.2:latest                                  a80c4f17acd5    2.0 GB    3 weeks ago     \n",
      "cwchang/llama3-taide-lx-8b-chat-alpha1:latest    31183ddd60a7    5.7 GB    3 weeks ago     \n",
      "kenneth85/llama-3-taiwan:latest                  c66e73d12b6d    4.7 GB    3 weeks ago     \n",
      "ycchen/breeze-7b-instruct-v1_0:latest            6207d6d81c31    4.3 GB    3 weeks ago     \n",
      "qwen2.5:1.5b                                     65ec06548149    986 MB    3 weeks ago     \n",
      "qwen3:1.7b                                       8f68893c685c    1.4 GB    3 weeks ago     \n",
      "llama3.1:latest                                  46e0c10c039e    4.9 GB    3 weeks ago     \n",
      "glm4:latest                                      5b699761eca5    5.5 GB    3 weeks ago     \n",
      "qwen2.5:latest                                   845dbda0ea48    4.7 GB    3 weeks ago     \n",
      "llama3:8b                                        365c0bd3c000    4.7 GB    2 months ago    \n",
      "gemma3:27b                                       a418f5838eaf    17 GB     2 months ago    \n",
      "minicpm-v:latest                                 c92bfad01205    5.5 GB    3 months ago    \n"
     ]
    }
   ],
   "source": [
    "!ollama list"
   ]
  },
  {
   "cell_type": "code",
   "execution_count": 3,
   "id": "ed39797c",
   "metadata": {},
   "outputs": [
    {
     "name": "stdout",
     "output_type": "stream",
     "text": [
      "test: 5622\n"
     ]
    }
   ],
   "source": [
    "# read files(src)\n",
    "# 1 document 一行，||||| 分段落\n",
    "'''f = open(\"./Data/train.src.txt\",\"r\")\n",
    "train_data = f.readlines()\n",
    "f.close()'''\n",
    "\n",
    "f = open(\"./Data/test.src.txt\",\"r\")\n",
    "test_data = f.readlines()\n",
    "f.close()\n",
    "\n",
    "'''f = open(\"./Data/val.src.txt\",\"r\")\n",
    "val_data = f.readlines()\n",
    "f.close()'''\n",
    "\n",
    "print(f\"test: {len(test_data)}\")#(f\"train: {len(train_data)}\\ntest: {len(test_data)}\\nval: {len(val_data)}\")"
   ]
  },
  {
   "cell_type": "code",
   "execution_count": 4,
   "id": "6bd28445",
   "metadata": {},
   "outputs": [
    {
     "name": "stdout",
     "output_type": "stream",
     "text": [
      "– It's a race for the governor's mansion in 11 states today, and the GOP could end the night at the helm of more than two-thirds of the 50 states. The GOP currently controls 29 of the country's top state offices; it's expected to keep the three Republican ones that are up for grabs (Utah, North Dakota, and Indiana), and wrest North Carolina from the Dems. That brings its toll to 30, with the potential to take three more, reports NPR. Races in Montana, New Hampshire, and Washington are still too close to call, and in all three, Democrat incumbents aren't seeking reelection. The results could have a big impact on health care, since a Supreme Court ruling grants states the ability to opt out of ObamaCare's Medicaid expansion. \"A Romney victory would dramatically empower Republican governors,\" said one analyst. Click for NPR's state-by-state breakdown of what could happen.\n",
      "\n",
      "5622\n"
     ]
    }
   ],
   "source": [
    "f = open(\"./Data/test.txt\",\"r\")\n",
    "test_result = f.readlines()\n",
    "f.close()\n",
    "\n",
    "print(test_result[0])\n",
    "print(len(test_result))"
   ]
  },
  {
   "cell_type": "code",
   "execution_count": 5,
   "id": "b8172ba7",
   "metadata": {},
   "outputs": [
    {
     "name": "stdout",
     "output_type": "stream",
     "text": [
      "GOP Eyes Gains As Voters In 11 States Pick Governors NEWLINE_CHAR NEWLINE_CHAR Enlarge this image toggle caption Jim Cole/AP Jim Cole/AP NEWLINE_CHAR NEWLINE_CHAR Voters in 11 states will pick their governors tonight, and Republicans appear on track to increase their numbers by at least one, with the potential to extend their hold to more than two-thirds of the nation's top state offices. NEWLINE_CHAR NEWLINE_CHAR Eight of the gubernatorial seats up for grabs are now held by Democrats; three are in Republican hands. Republicans currently hold 29 governorships, Democrats have 20, and Rhode Island's Gov. Lincoln Chafee is an Independent. NEWLINE_CHAR NEWLINE_CHAR Polls and race analysts suggest that only three of tonight's contests are considered competitive, all in states where incumbent Democratic governors aren't running again: Montana, New Hampshire and Washington. NEWLINE_CHAR NEWLINE_CHAR While those state races remain too close to call, Republicans are expected to wrest the North Carolina governorship from Democratic control, and to easily win GOP-held seats in Utah, North Dakota and Indiana. NEWLINE_CHAR NEWLINE_CHAR Democrats are likely to hold on to their seats in West Virginia and Missouri, and are expected to notch safe wins in races for seats they hold in Vermont and Delaware. NEWLINE_CHAR NEWLINE_CHAR Holding Sway On Health Care NEWLINE_CHAR NEWLINE_CHAR While the occupant of the governor's office is historically far less important than the party that controls the state legislature, top state officials in coming years are expected to wield significant influence in at least one major area. NEWLINE_CHAR NEWLINE_CHAR And that's health care, says political scientist Thad Kousser, co-author of The Power of American Governors. NEWLINE_CHAR NEWLINE_CHAR \"No matter who wins the presidency, national politics is going to be stalemated on the Affordable Care Act,\" says Kousser, of the University of California, San Diego. NEWLINE_CHAR NEWLINE_CHAR A recent U.S. Supreme Court decision giving states the ability to opt out of the law's expansion of Medicaid, the federal insurance program for poor, disabled and elderly Americans, confers \"incredible power\" on the states and their governors, Kousser says. NEWLINE_CHAR NEWLINE_CHAR Just look at what happened when the Obama administration in 2010 offered federal stimulus money to states to begin building a high-speed rail network. Three Republican governors, including Rick Scott of Florida and Scott Walker of Wisconsin, rejected a share of the money citing debt and deficit concerns. NEWLINE_CHAR NEWLINE_CHAR \"A [Mitt] Romney victory would dramatically empower Republican governors,\" Kousser says. NEWLINE_CHAR NEWLINE_CHAR State-By-State View NEWLINE_CHAR NEWLINE_CHAR North Carolina: One-term incumbent Democratic Gov. Beverly Perdue, the first woman to hold the state's top office, announced in January that she would not seek re-election after polls showed her with high disapproval ratings and trailing Republican candidate Pat McCrory. NEWLINE_CHAR NEWLINE_CHAR The seat is expected to be won by McCrory, a former Charlotte mayor, who is facing Perdue's lieutenant governor, Walter Dalton. McCrory lost a close race to Perdue in 2008, when then-presidential candidate Barack Obama became the first Democrat to win North Carolina in more than three decades. The Real Clear Politics average for the race has McCrory maintaining a 14.3 percentage point lead. NEWLINE_CHAR NEWLINE_CHAR Montana: Popular Democratic Gov. Brian Schweitzer — he won his last election with 65 percent of the vote — has reached his two-term limit. The state's Democratic Attorney General Steve Bullock is trying to keep the seat in his party's column by associating himself with Schweitzer's legacy. He's in a tough race with former two-term GOP Rep. Rick Hill. NEWLINE_CHAR NEWLINE_CHAR New Hampshire: Former Democratic state Sen. Maggie Hassan has also promised a continuation of the policies of her predecessor, retiring Democratic Gov. John Lynch. Her opponent is lawyer Ovide Lamontagne, a Tea Party conservative who ran unsuccessfully for governor in 1996 and for the U.S. Senate in 2010. The national parties have invested in the campaigns, which have focused on fiscal and women's health care issues. NEWLINE_CHAR NEWLINE_CHAR Washington: The state's governorship has been in Democratic hands for 32 years, and former U.S. Rep. Jay Inslee is in a dead-heat battle to keep it that way. His opponent is the state's Republican Attorney General Rob McKenna. McKenna has a proven ability to win statewide, but working in Inslee's favor are Obama's poll numbers. The Real Clear Politics average shows Obama with an average 13.6 percentage point lead over Romney; Inslee is leading McKenna by an average of 1 percentage point. NEWLINE_CHAR NEWLINE_CHAR Pretty Much Sure Things NEWLINE_CHAR NEWLINE_CHAR Republican Govs. Jack Dalrymple in North Dakota and Gary Herbert in Utah, and GOP Rep. Mike Pence in Indiana are expected to win. So are Democratic Govs. Peter Shumlin in Vermont and Jack Markell in Delaware. NEWLINE_CHAR NEWLINE_CHAR Democrats are also hoping to hold on to the governorship in Missouri, where Jay Nixon is running for a second term against Republican Dave Spence; and in West Virginia, where Gov. Earl Ray Tomblin, former state senate president, is running for his first full term after winning a special election in 2011. GOP businessman Bill Maloney is his opponent, as he was last year. NEWLINE_CHAR NEWLINE_CHAR Nixon has been consistently outpolling Spence by an average of about 7 points in Missouri. Tomblin is seen as likely to retain his seat, even in a state where Romney is leading Obama by double digits. ||||| GOP Eyes Gains As Voters In 11 States Pick Governors NEWLINE_CHAR NEWLINE_CHAR Jim Cole / AP i Jim Cole / AP NEWLINE_CHAR NEWLINE_CHAR Voters in 11 states will pick their governors tonight, and Republicans appear on track to increase their numbers by at least one, and with the potential to extend their hold to more than two-thirds of the nation's top state offices. NEWLINE_CHAR NEWLINE_CHAR Eight of the gubernatorial seats up for grabs today are now held by Democrats; three are in Republican hands. Republicans currently hold 29 governorships, Democrats have 20; and Rhode Island's Gov. Lincoln Chafee is an Independent. NEWLINE_CHAR NEWLINE_CHAR Polls and race analysts suggest that only three of tonight's contests are considered competitive, all in states where incumbent Democratic governors aren't running again: Montana, New Hampshire and Washington. NEWLINE_CHAR NEWLINE_CHAR While those state races remain too close to call, Republicans are expected to wrest the North Carolina governorship from Democratic control, and to easily win GOP-held seats in Utah, North Dakota and Indiana. NEWLINE_CHAR NEWLINE_CHAR Democrats are likely hold on to their seats in West Virginia and Missouri; and expected to notch safe wins in races for seats they hold in Vermont and Delaware. NEWLINE_CHAR NEWLINE_CHAR Holding Sway On Health Care NEWLINE_CHAR NEWLINE_CHAR While the occupant of the governor's office is historically far less important than the party that controls the state legislature, top state officials in coming years are expected to wield significant influence in at least one major area. NEWLINE_CHAR NEWLINE_CHAR And that's health care, says political scientist Thad Kousser, co-author of The Power of American Governors. NEWLINE_CHAR NEWLINE_CHAR \"No matter who wins the presidency, national politics is going to be stalemated on the Affordable Care Act,\" says Kousser, of the University of California-Berkeley. NEWLINE_CHAR NEWLINE_CHAR A recent U.S. Supreme Court decision giving states the ability to opt out of the law's expansion of Medicaid, the federal insurance program for poor, disabled and elderly Americans, confers \"incredible power\" on the states and their governors, Kousser says. NEWLINE_CHAR NEWLINE_CHAR Just look at what happened when the Obama administration in 2010 offered federal stimulus money to states to begin building a high-speed rail network. Three Republican governors, including Rick Scott of Florida and Scott Walker of Wisconsin, rejected a share of the money citing debt and deficit concerns. NEWLINE_CHAR NEWLINE_CHAR \"A [Mitt] Romney victory would dramatically empower Republican governors,\" Kousser says. NEWLINE_CHAR NEWLINE_CHAR State-by-State View NEWLINE_CHAR NEWLINE_CHAR North Carolina: One-term incumbent Democratic Gov. Beverly Perdue, the first woman to hold the state's top office, announced in January she would not seek re-election after polls showed her with high disapproval ratings and trailing Republican candidate Pat McCrory. NEWLINE_CHAR NEWLINE_CHAR The seat is expected to be won by McCrory, a former Charlotte mayor, who is facing Perdue's lieutenant governor, Walter Dalton. McCrory lost a close race to Perdue in 2008, when then-presidential candidate Barack Obama became the first Democrat to win North Carolina in more than three decades. The Real Clear Politics average for the race has McCrory maintaining a 14.3 percentage point lead. NEWLINE_CHAR NEWLINE_CHAR Montana: Popular Democratic Gov. Brian Schweitzer — he won his last election with 65 percent of the vote — has reached his two-term limit. The state's Democratic Attorney General Steve Bullock is trying to keep the seat in his party's column by associating himself with Schweitzer's legacy. He's in a tough race with former two-term GOP Rep. Rick Hill. NEWLINE_CHAR NEWLINE_CHAR New Hampshire: Former Democratic state Sen. Maggie Hassan has also promised a continuation of the policies of her predecessor, retiring Democratic Gov. John Lynch. Her opponent is lawyer Ovide Lamontagne, a Tea Party conservative who ran unsuccessfully for governor in 1996 and for the U.S. Senate in 2010. The national parties have invested in the campaigns, which have focused on fiscal and women's health care issues. NEWLINE_CHAR NEWLINE_CHAR Washington: The state's governorship has been in Democratic hands for 32 years, and former Rep. Jay Inslee is in a dead-heat battle to keep it that way. His opponent is the state's Republican Attorney General Rob McKenna. McKenna has a proven ability to win statewide, but working in Inslee's favor are Obama's poll numbers. The Real Clear Politics average shows Obama with an average 13.6 point lead over Romney; Inslee's leading McKenna by an average of 1 percentage point. NEWLINE_CHAR NEWLINE_CHAR Pretty Much Sure Things NEWLINE_CHAR NEWLINE_CHAR Republican governors Jack Dalrymple in North Dakota and Gary Herbert in Utah, and GOP Rep. Mike Pence in Indiana are expected to win. So are Democratic governors Peter Shumlin in Vermont and Jack Markell in Delaware. NEWLINE_CHAR NEWLINE_CHAR Democrats are also hoping to hold on to the governorship in Missouri, where Jay Nixon is running for a second term against Republican Dave Spence; and in West Virginia, where Gov. Earl Ray Tomblin, former state senate president, is running for his first full term after willing a special election in 2011. GOP businessman Bill Maloney is his opponent, as he was last year. NEWLINE_CHAR NEWLINE_CHAR Nixon has been consistently out-polling Spence by an average of about 7 points in Missouri. Tomblin is seen as likely to retain his seat, even in a state where Romney is leading Obama by double digits.\n",
      "\n",
      "Voters in 11 states will choose their governors tonight, with Republicans poised to increase their numbers and potentially hold more than two-thirds of the nation's top state offices. Eight governorships currently held by Democrats are up for grabs, while three Republican-held seats are also being contested. While only three races are considered competitive, Republicans are expected to win in North Carolina, Utah, North Dakota, and Indiana. Democrats are likely to hold onto their seats in West Virginia and Missouri, and may retain control of governorships in Vermont and Delaware.\n"
     ]
    }
   ],
   "source": [
    "import requests\n",
    "\n",
    "def chat_with_ollama(document, model=\"llama3:8b\"):\n",
    "    url = \"http://localhost:11434/api/chat\"\n",
    "    headers = {\"Content-Type\": \"application/json\"}\n",
    "    data = {\n",
    "        \"model\": model,\n",
    "        \"messages\":[{\"role\": \"system\", \"content\": \"Summarize the text into a short. Output only the summary itself.\"},\"\"],\n",
    "        # \"prompt\": \"Summarize the following text into a short. Output only the summary itself.\\n\\n\"+prompt,\n",
    "        \"stream\": False  # 設為 True 可以接收串流回傳\n",
    "    }\n",
    "\n",
    "    summary = \"\"\n",
    "    for content in document.split(\"|||||\"):\n",
    "        data[\"messages\"][1] = {\"role\": \"user\", \"content\": content}\n",
    "        response = requests.post(url, headers=headers, json=data)\n",
    "        result = response.json()\n",
    "        summary += result['message']['content'] + \"\\n\"\n",
    "        \n",
    "    data[\"messages\"][0] = {\"role\": \"system\", \"content\": \"Cobine the summaries and provide a comprehensive summary. Output only the summary itself.\"}\n",
    "    response = requests.post(url, headers=headers, json=data)\n",
    "    result = response.json()\n",
    "    return result['message']['content']\n",
    "\n",
    "print(test_data[0])\n",
    "print(chat_with_ollama(test_data[0]))"
   ]
  },
  {
   "cell_type": "code",
   "execution_count": null,
   "id": "5842ae3a",
   "metadata": {},
   "outputs": [
    {
     "name": "stderr",
     "output_type": "stream",
     "text": [
      "[codecarbon WARNING @ 01:21:39] Multiple instances of codecarbon are allowed to run at the same time.\n",
      "[codecarbon WARNING @ 01:21:40] Error while trying to count physical CPUs: [Errno 2] No such file or directory: 'lscpu'. Defaulting to 1.\n",
      "[codecarbon INFO @ 01:21:40] [setup] RAM Tracking...\n",
      "[codecarbon INFO @ 01:21:40] [setup] CPU Tracking...\n",
      "[codecarbon WARNING @ 01:21:40] We saw that you have a Apple M2 Max but we don't know it. Please contact us.\n",
      "[codecarbon WARNING @ 01:21:40] No CPU tracking mode found. Falling back on estimation based on TDP for CPU. \n",
      " Mac OS and ARM processor detected: Please enable PowerMetrics sudo to measure CPU\n",
      "\n",
      "[codecarbon INFO @ 01:21:40] CPU Model on constant consumption mode: Apple M2 Max\n",
      "[codecarbon WARNING @ 01:21:40] No CPU tracking mode found. Falling back on CPU constant mode.\n",
      "[codecarbon INFO @ 01:21:40] [setup] GPU Tracking...\n",
      "[codecarbon INFO @ 01:21:40] No GPU found.\n",
      "[codecarbon INFO @ 01:21:40] The below tracking methods have been set up:\n",
      "                RAM Tracking Method: RAM power estimation model\n",
      "                CPU Tracking Method: global constant\n",
      "                GPU Tracking Method: Unspecified\n",
      "            \n",
      "[codecarbon INFO @ 01:21:40] >>> Tracker's metadata:\n",
      "[codecarbon INFO @ 01:21:40]   Platform system: macOS-15.2-arm64-arm-64bit\n",
      "[codecarbon INFO @ 01:21:40]   Python version: 3.12.9\n",
      "[codecarbon INFO @ 01:21:40]   CodeCarbon version: 3.0.2\n",
      "[codecarbon INFO @ 01:21:40]   Available RAM : 64.000 GB\n",
      "[codecarbon INFO @ 01:21:40]   CPU count: 12 thread(s) in 1 physical CPU(s)\n",
      "[codecarbon INFO @ 01:21:40]   CPU model: Apple M2 Max\n",
      "[codecarbon INFO @ 01:21:40]   GPU count: None\n",
      "[codecarbon INFO @ 01:21:40]   GPU model: None\n",
      "[codecarbon INFO @ 01:21:43] Emissions data (if any) will be saved to file /Users/lala/GreenAI/emissions.csv\n",
      "[codecarbon INFO @ 01:21:54] \n",
      "Graceful stopping: collecting and writing information.\n",
      "Please wait a few seconds...\n",
      "[codecarbon INFO @ 01:21:54] Energy consumed for RAM : 0.000018 kWh. RAM Power : 6.0 W\n",
      "[codecarbon INFO @ 01:21:54] Delta energy consumed for CPU with constant : 0.000124 kWh, power : 42.5 W\n",
      "[codecarbon INFO @ 01:21:54] Energy consumed for All CPU : 0.000124 kWh\n",
      "[codecarbon INFO @ 01:21:54] 0.000142 kWh of electricity used since the beginning.\n",
      "[codecarbon INFO @ 01:21:54] Done!\n",
      "\n"
     ]
    }
   ],
   "source": [
    "candidates = []\n",
    "data_num = 1000\n",
    "\n",
    "@track_emissions()\n",
    "def summarize():\n",
    "    for document in test_data[:data_num]:\n",
    "        candidates.append(chat_with_ollama(document))\n",
    "        \n",
    "summarize()"
   ]
  },
  {
   "cell_type": "code",
   "execution_count": null,
   "id": "df3a545c",
   "metadata": {},
   "outputs": [
    {
     "name": "stdout",
     "output_type": "stream",
     "text": [
      "It's a race for the governor's mansion in 11 states today, and the GOP could end the night at the helm of more than two-thirds of the 50 states. The GOP currently controls 29 of the country's top state offices; it's expected to keep the three Republican ones that are up for grabs (Utah, North Dakota, and Indiana), and wrest North Carolina from the Dems. That brings its toll to 30, with the potential to take three more, reports NPR. Races in Montana, New Hampshire, and Washington are still too close to call, and in all three, Democrat incumbents aren't seeking reelection. The results could have a big impact on health care, since a Supreme Court ruling grants states the ability to opt out of ObamaCare's Medicaid expansion. \"A Romney victory would dramatically empower Republican governors,\" said one analyst. Click for NPR's state-by-state breakdown of what could happen.\n",
      "\n"
     ]
    }
   ],
   "source": [
    "references = [i.strip(\"– \") for i in test_result[:data_num]]\n",
    "print(references[0])"
   ]
  },
  {
   "cell_type": "code",
   "execution_count": 14,
   "id": "f7ed2a3d",
   "metadata": {},
   "outputs": [
    {
     "name": "stdout",
     "output_type": "stream",
     "text": [
      "ROUGE:\n",
      "rouge1: 0.312\n",
      "rouge2: 0.11290322580645161\n",
      "rougeL: 0.184\n",
      "rougeLsum: 0.184\n"
     ]
    }
   ],
   "source": [
    "# rouge\n",
    "rouge = evaluate.load('rouge')\n",
    "results_R = rouge.compute(predictions=candidates, references=references) #結果平均\n",
    "\n",
    "print(\"ROUGE:\")\n",
    "print(f\"rouge1: {results_R['rouge1']}\\nrouge2: {results_R['rouge2']}\\nrougeL: {results_R['rougeL']}\\nrougeLsum: {results_R[\"rougeLsum\"]}\")"
   ]
  },
  {
   "cell_type": "code",
   "execution_count": 15,
   "id": "e21af2aa",
   "metadata": {},
   "outputs": [
    {
     "name": "stdout",
     "output_type": "stream",
     "text": [
      "BLEU:\n",
      "bleu: 0.06130964998047199\n",
      "precisions: [0.44554455445544555, 0.16, 0.08080808080808081, 0.04081632653061224]\n",
      "brevity_penalty: 0.4951124863740115\n",
      "length_ratio: 0.5872093023255814\n",
      "translation_length: 101\n",
      "reference_length: 172\n"
     ]
    }
   ],
   "source": [
    "# bleu\n",
    "# 不需要 brevity_prnalty，可能要考慮手動算 bleu(無BP)\n",
    "bleu = evaluate.load('bleu')\n",
    "results_B = bleu.compute(predictions=candidates, references=references)\n",
    "print(\"BLEU:\")\n",
    "print(f\"bleu: {results_B['bleu']}\\nprecisions: {results_B['precisions']}\\nbrevity_penalty: {results_B['brevity_penalty']}\\nlength_ratio: {results_B[\"length_ratio\"]}\\ntranslation_length: {results_B[\"translation_length\"]}\\nreference_length: {results_B[\"reference_length\"]}\")"
   ]
  },
  {
   "cell_type": "code",
   "execution_count": 16,
   "id": "7a960562",
   "metadata": {},
   "outputs": [
    {
     "data": {
      "text/plain": [
       "\"results_R = {}\\nresults_R['rouge1'] = 0.3042215287471872\\nresults_R['rouge2'] = 0.08818775179799443\\nresults_R['rougeL'] =  0.1639229255348068\\nresults_R['rougeLsum'] = 0.16663142006267556\\n\\nresults_B = {}\\nresults_B['bleu'] = 0.02515597115661552\\n\\nprint(results_R)\""
      ]
     },
     "execution_count": 16,
     "metadata": {},
     "output_type": "execute_result"
    }
   ],
   "source": [
    "'''results_R = {}\n",
    "results_R['rouge1'] = 0.3042215287471872\n",
    "results_R['rouge2'] = 0.08818775179799443\n",
    "results_R['rougeL'] =  0.1639229255348068\n",
    "results_R['rougeLsum'] = 0.16663142006267556\n",
    "\n",
    "results_B = {}\n",
    "results_B['bleu'] = 0.02515597115661552\n",
    "\n",
    "print(results_R)'''"
   ]
  },
  {
   "cell_type": "code",
   "execution_count": 17,
   "id": "e55eae5f",
   "metadata": {},
   "outputs": [
    {
     "data": {
      "image/png": "[encoded data removed]",
      "text/plain": [
       "<Figure size 640x480 with 1 Axes>"
      ]
     },
     "metadata": {},
     "output_type": "display_data"
    }
   ],
   "source": [
    "import matplotlib.pyplot as plt\n",
    "\n",
    "x = ['rouge1', 'rouge2', 'rougeL', 'rougeLsum', 'bleu']\n",
    "y = [results_R[r] for r in x[:4]] + [results_B['bleu']]\n",
    "plt.bar(x,y)\n",
    "plt.title(\"llama3:8b\")\n",
    "plt.show()"
   ]
  },
  {
   "cell_type": "markdown",
   "id": "ab14916d",
   "metadata": {},
   "source": [
    "# codecarbon show\n",
    "carbonboard --filepath=\"emissions.csv\"\n",
    "http://127.0.0.1:8050/"
   ]
  }
 ],
 "metadata": {
  "kernelspec": {
   "display_name": "base",
   "language": "python",
   "name": "python3"
  },
  "language_info": {
   "codemirror_mode": {
    "name": "ipython",
    "version": 3
   },
   "file_extension": ".py",
   "mimetype": "text/x-python",
   "name": "python",
   "nbconvert_exporter": "python",
   "pygments_lexer": "ipython3",
   "version": "3.12.9"
  }
 },
 "nbformat": 4,
 "nbformat_minor": 5
}
